{
  "nbformat": 4,
  "nbformat_minor": 0,
  "metadata": {
    "colab": {
      "provenance": []
    },
    "kernelspec": {
      "name": "python3",
      "display_name": "Python 3"
    },
    "language_info": {
      "name": "python"
    }
  },
  "cells": [
    {
      "cell_type": "code",
      "execution_count": 221,
      "metadata": {
        "colab": {
          "base_uri": "https://localhost:8080/"
        },
        "id": "9B3hsLe9nkLI",
        "outputId": "4cf89af6-56f0-4234-a088-fb4477dd7aec"
      },
      "outputs": [
        {
          "output_type": "stream",
          "name": "stderr",
          "text": [
            "/usr/local/lib/python3.10/dist-packages/sklearn/datasets/_openml.py:1022: FutureWarning: The default value of `parser` will change from `'liac-arff'` to `'auto'` in 1.4. You can set `parser='auto'` to silence this warning. Therefore, an `ImportError` will be raised from 1.4 if the dataset is dense and pandas is not installed. Note that the pandas parser may return different data types. See the Notes Section in fetch_openml's API doc for details.\n",
            "  warn(\n"
          ]
        }
      ],
      "source": [
        "import numpy as np\n",
        "import pandas as pd\n",
        "\n",
        "from sklearn.datasets import fetch_openml\n",
        "dataset = fetch_openml(\"house_prices\",version = 1)\n",
        "x = pd.DataFrame(dataset.data)\n",
        "y = pd.DataFrame(dataset.target)\n",
        "\n"
      ]
    },
    {
      "cell_type": "code",
      "source": [
        "#dropping columns with 50% or more empty values\n",
        "x.drop(['Alley', 'PoolQC', 'Fence', 'MiscFeature','Id'],axis=1,inplace=True)\n",
        "print(x.shape)"
      ],
      "metadata": {
        "colab": {
          "base_uri": "https://localhost:8080/"
        },
        "id": "2w2Edb0EEMfl",
        "outputId": "c02480fe-cdc4-4e3b-e043-90b105fa841f"
      },
      "execution_count": 222,
      "outputs": [
        {
          "output_type": "stream",
          "name": "stdout",
          "text": [
            "(1460, 75)\n"
          ]
        }
      ]
    },
    {
      "cell_type": "code",
      "source": [
        "# selecting object and numeric columns\n",
        "\n",
        "obj_cols = x.select_dtypes(include=[\"object\"]).columns\n",
        "num_cols = x.select_dtypes(include=[np.number]).columns"
      ],
      "metadata": {
        "id": "lKvnHwHcKoi_"
      },
      "execution_count": 223,
      "outputs": []
    },
    {
      "cell_type": "code",
      "source": [
        "# imputing numeric values with mean and objects with most_frequent\n",
        "\n",
        "from sklearn.impute import SimpleImputer\n",
        "num_imputer = SimpleImputer(strategy = \"mean\")\n",
        "obj_imputer = SimpleImputer(strategy = \"most_frequent\")\n",
        "\n",
        "x.loc[:,num_cols] = num_imputer.fit_transform(x[num_cols])\n",
        "x.loc[:,obj_cols] = obj_imputer.fit_transform(x[obj_cols])\n"
      ],
      "metadata": {
        "id": "XWTjs5l1Fnxv"
      },
      "execution_count": 224,
      "outputs": []
    },
    {
      "cell_type": "code",
      "source": [
        "# Encoding object data to numeric data using label_encoding\n",
        "\n",
        "from sklearn.preprocessing import LabelEncoder\n",
        "le = LabelEncoder()\n",
        "for col in obj_cols:\n",
        "    x[col] = le.fit_transform(x[col])\n",
        "\n",
        "print(x.info())"
      ],
      "metadata": {
        "colab": {
          "base_uri": "https://localhost:8080/"
        },
        "id": "Ug4z0JBnOLBC",
        "outputId": "0aa7c92e-b513-4eb3-e01c-3b332cd5ef2a"
      },
      "execution_count": 225,
      "outputs": [
        {
          "output_type": "stream",
          "name": "stdout",
          "text": [
            "<class 'pandas.core.frame.DataFrame'>\n",
            "RangeIndex: 1460 entries, 0 to 1459\n",
            "Data columns (total 75 columns):\n",
            " #   Column         Non-Null Count  Dtype  \n",
            "---  ------         --------------  -----  \n",
            " 0   MSSubClass     1460 non-null   int64  \n",
            " 1   MSZoning       1460 non-null   int64  \n",
            " 2   LotFrontage    1460 non-null   float64\n",
            " 3   LotArea        1460 non-null   int64  \n",
            " 4   Street         1460 non-null   int64  \n",
            " 5   LotShape       1460 non-null   int64  \n",
            " 6   LandContour    1460 non-null   int64  \n",
            " 7   Utilities      1460 non-null   int64  \n",
            " 8   LotConfig      1460 non-null   int64  \n",
            " 9   LandSlope      1460 non-null   int64  \n",
            " 10  Neighborhood   1460 non-null   int64  \n",
            " 11  Condition1     1460 non-null   int64  \n",
            " 12  Condition2     1460 non-null   int64  \n",
            " 13  BldgType       1460 non-null   int64  \n",
            " 14  HouseStyle     1460 non-null   int64  \n",
            " 15  OverallQual    1460 non-null   int64  \n",
            " 16  OverallCond    1460 non-null   int64  \n",
            " 17  YearBuilt      1460 non-null   int64  \n",
            " 18  YearRemodAdd   1460 non-null   int64  \n",
            " 19  RoofStyle      1460 non-null   int64  \n",
            " 20  RoofMatl       1460 non-null   int64  \n",
            " 21  Exterior1st    1460 non-null   int64  \n",
            " 22  Exterior2nd    1460 non-null   int64  \n",
            " 23  MasVnrType     1460 non-null   int64  \n",
            " 24  MasVnrArea     1460 non-null   float64\n",
            " 25  ExterQual      1460 non-null   int64  \n",
            " 26  ExterCond      1460 non-null   int64  \n",
            " 27  Foundation     1460 non-null   int64  \n",
            " 28  BsmtQual       1460 non-null   int64  \n",
            " 29  BsmtCond       1460 non-null   int64  \n",
            " 30  BsmtExposure   1460 non-null   int64  \n",
            " 31  BsmtFinType1   1460 non-null   int64  \n",
            " 32  BsmtFinSF1     1460 non-null   int64  \n",
            " 33  BsmtFinType2   1460 non-null   int64  \n",
            " 34  BsmtFinSF2     1460 non-null   int64  \n",
            " 35  BsmtUnfSF      1460 non-null   int64  \n",
            " 36  TotalBsmtSF    1460 non-null   int64  \n",
            " 37  Heating        1460 non-null   int64  \n",
            " 38  HeatingQC      1460 non-null   int64  \n",
            " 39  CentralAir     1460 non-null   int64  \n",
            " 40  Electrical     1460 non-null   int64  \n",
            " 41  1stFlrSF       1460 non-null   int64  \n",
            " 42  2ndFlrSF       1460 non-null   int64  \n",
            " 43  LowQualFinSF   1460 non-null   int64  \n",
            " 44  GrLivArea      1460 non-null   int64  \n",
            " 45  BsmtFullBath   1460 non-null   int64  \n",
            " 46  BsmtHalfBath   1460 non-null   int64  \n",
            " 47  FullBath       1460 non-null   int64  \n",
            " 48  HalfBath       1460 non-null   int64  \n",
            " 49  BedroomAbvGr   1460 non-null   int64  \n",
            " 50  KitchenAbvGr   1460 non-null   int64  \n",
            " 51  KitchenQual    1460 non-null   int64  \n",
            " 52  TotRmsAbvGrd   1460 non-null   int64  \n",
            " 53  Functional     1460 non-null   int64  \n",
            " 54  Fireplaces     1460 non-null   int64  \n",
            " 55  FireplaceQu    1460 non-null   int64  \n",
            " 56  GarageType     1460 non-null   int64  \n",
            " 57  GarageYrBlt    1460 non-null   float64\n",
            " 58  GarageFinish   1460 non-null   int64  \n",
            " 59  GarageCars     1460 non-null   int64  \n",
            " 60  GarageArea     1460 non-null   int64  \n",
            " 61  GarageQual     1460 non-null   int64  \n",
            " 62  GarageCond     1460 non-null   int64  \n",
            " 63  PavedDrive     1460 non-null   int64  \n",
            " 64  WoodDeckSF     1460 non-null   int64  \n",
            " 65  OpenPorchSF    1460 non-null   int64  \n",
            " 66  EnclosedPorch  1460 non-null   int64  \n",
            " 67  3SsnPorch      1460 non-null   int64  \n",
            " 68  ScreenPorch    1460 non-null   int64  \n",
            " 69  PoolArea       1460 non-null   int64  \n",
            " 70  MiscVal        1460 non-null   int64  \n",
            " 71  MoSold         1460 non-null   int64  \n",
            " 72  YrSold         1460 non-null   int64  \n",
            " 73  SaleType       1460 non-null   int64  \n",
            " 74  SaleCondition  1460 non-null   int64  \n",
            "dtypes: float64(3), int64(72)\n",
            "memory usage: 855.6 KB\n",
            "None\n"
          ]
        }
      ]
    },
    {
      "cell_type": "code",
      "source": [
        "from sklearn.model_selection import train_test_split\n",
        "x_train,x_test,y_train,y_test = train_test_split(x,y,test_size = 0.2,random_state=18)"
      ],
      "metadata": {
        "id": "P6VAoA4bTpXf"
      },
      "execution_count": 226,
      "outputs": []
    },
    {
      "cell_type": "code",
      "source": [
        "# importing Algorithm\n",
        "from sklearn.ensemble import RandomForestRegressor\n",
        "rfr = RandomForestRegressor()\n",
        "rfr.fit(x_train,y_train)\n",
        "y_pred = rfr.predict(x_test)\n",
        "\n",
        "from sklearn.metrics import r2_score\n",
        "r2 = r2_score(y_test, y_pred)\n",
        "r2\n"
      ],
      "metadata": {
        "colab": {
          "base_uri": "https://localhost:8080/"
        },
        "id": "fxk_o26gS_mQ",
        "outputId": "21902e68-0dcd-4e7f-80e9-288fd314c18b"
      },
      "execution_count": 235,
      "outputs": [
        {
          "output_type": "stream",
          "name": "stderr",
          "text": [
            "/usr/local/lib/python3.10/dist-packages/sklearn/base.py:1152: DataConversionWarning: A column-vector y was passed when a 1d array was expected. Please change the shape of y to (n_samples,), for example using ravel().\n",
            "  return fit_method(estimator, *args, **kwargs)\n"
          ]
        },
        {
          "output_type": "execute_result",
          "data": {
            "text/plain": [
              "0.906724431136132"
            ]
          },
          "metadata": {},
          "execution_count": 235
        }
      ]
    },
    {
      "cell_type": "code",
      "source": [
        "#hyper parameter tuning\n",
        "from sklearn.model_selection import GridSearchCV\n",
        "param_grid = {\n",
        "    'n_estimators': [100, 200, 300],  # Number of trees in the forest\n",
        "    'max_depth': [10, 20, 30, None],  # Maximum depth of the tree\n",
        "    'min_samples_split': [2, 5, 10],  # Minimum number of samples required to split a node\n",
        "    'min_samples_leaf': [1, 2, 4],    # Minimum number of samples required at each leaf node\n",
        "    'max_features': ['auto', 'sqrt']  # Number of features to consider for the best split\n",
        "}\n",
        "grid_search = GridSearchCV(estimator=rfr, param_grid=param_grid, cv=5, n_jobs=-1, verbose=2)\n",
        "grid_search.fit(x_train, y_train)\n",
        "\n",
        "\n",
        "best_params = grid_search.best_params_\n",
        "best_score = grid_search.best_score_\n",
        "\n"
      ],
      "metadata": {
        "colab": {
          "base_uri": "https://localhost:8080/"
        },
        "id": "1_qouMrldUIm",
        "outputId": "012124ed-4449-4657-b399-c1d167288bc7"
      },
      "execution_count": 237,
      "outputs": [
        {
          "output_type": "stream",
          "name": "stdout",
          "text": [
            "Fitting 5 folds for each of 216 candidates, totalling 1080 fits\n"
          ]
        },
        {
          "output_type": "stream",
          "name": "stderr",
          "text": [
            "/usr/local/lib/python3.10/dist-packages/sklearn/model_selection/_validation.py:425: FitFailedWarning: \n",
            "540 fits failed out of a total of 1080.\n",
            "The score on these train-test partitions for these parameters will be set to nan.\n",
            "If these failures are not expected, you can try to debug them by setting error_score='raise'.\n",
            "\n",
            "Below are more details about the failures:\n",
            "--------------------------------------------------------------------------------\n",
            "540 fits failed with the following error:\n",
            "Traceback (most recent call last):\n",
            "  File \"/usr/local/lib/python3.10/dist-packages/sklearn/model_selection/_validation.py\", line 729, in _fit_and_score\n",
            "    estimator.fit(X_train, y_train, **fit_params)\n",
            "  File \"/usr/local/lib/python3.10/dist-packages/sklearn/base.py\", line 1145, in wrapper\n",
            "    estimator._validate_params()\n",
            "  File \"/usr/local/lib/python3.10/dist-packages/sklearn/base.py\", line 638, in _validate_params\n",
            "    validate_parameter_constraints(\n",
            "  File \"/usr/local/lib/python3.10/dist-packages/sklearn/utils/_param_validation.py\", line 96, in validate_parameter_constraints\n",
            "    raise InvalidParameterError(\n",
            "sklearn.utils._param_validation.InvalidParameterError: The 'max_features' parameter of RandomForestRegressor must be an int in the range [1, inf), a float in the range (0.0, 1.0], a str among {'log2', 'sqrt'} or None. Got 'auto' instead.\n",
            "\n",
            "  warnings.warn(some_fits_failed_message, FitFailedWarning)\n",
            "/usr/local/lib/python3.10/dist-packages/sklearn/model_selection/_search.py:979: UserWarning: One or more of the test scores are non-finite: [       nan        nan        nan        nan        nan        nan\n",
            "        nan        nan        nan        nan        nan        nan\n",
            "        nan        nan        nan        nan        nan        nan\n",
            "        nan        nan        nan        nan        nan        nan\n",
            "        nan        nan        nan 0.84548957 0.84111    0.84560799\n",
            " 0.84047796 0.8485294  0.8445828  0.83459059 0.83947866 0.8426573\n",
            " 0.83748342 0.84104665 0.84387361 0.84198539 0.84184948 0.84254375\n",
            " 0.83790409 0.83923152 0.83956697 0.83516562 0.83399451 0.8357423\n",
            " 0.83359668 0.83423034 0.83316129 0.83240935 0.83485429 0.8340438\n",
            "        nan        nan        nan        nan        nan        nan\n",
            "        nan        nan        nan        nan        nan        nan\n",
            "        nan        nan        nan        nan        nan        nan\n",
            "        nan        nan        nan        nan        nan        nan\n",
            "        nan        nan        nan 0.84741227 0.84407379 0.85087786\n",
            " 0.84108378 0.84911345 0.84708305 0.84081082 0.84379332 0.84030902\n",
            " 0.83971382 0.8427921  0.84582006 0.84632307 0.84504103 0.84189147\n",
            " 0.84083862 0.8397688  0.83955906 0.83120844 0.83625097 0.83679807\n",
            " 0.8326972  0.83364595 0.83590557 0.83165337 0.83364522 0.83380475\n",
            "        nan        nan        nan        nan        nan        nan\n",
            "        nan        nan        nan        nan        nan        nan\n",
            "        nan        nan        nan        nan        nan        nan\n",
            "        nan        nan        nan        nan        nan        nan\n",
            "        nan        nan        nan 0.84408636 0.84960227 0.84746884\n",
            " 0.84429228 0.84682834 0.84740364 0.84327229 0.83920364 0.84428776\n",
            " 0.84449653 0.84492669 0.84453696 0.84259387 0.8406426  0.84223112\n",
            " 0.83583326 0.83723846 0.83916927 0.83436508 0.83507991 0.83474204\n",
            " 0.83489919 0.83697044 0.83558379 0.83187622 0.8338335  0.8323666\n",
            "        nan        nan        nan        nan        nan        nan\n",
            "        nan        nan        nan        nan        nan        nan\n",
            "        nan        nan        nan        nan        nan        nan\n",
            "        nan        nan        nan        nan        nan        nan\n",
            "        nan        nan        nan 0.84795292 0.84659249 0.84810991\n",
            " 0.84604703 0.844632   0.84694435 0.8391506  0.83862931 0.84042312\n",
            " 0.84309813 0.8420649  0.84537591 0.84435705 0.84381641 0.84434187\n",
            " 0.83946976 0.83985844 0.8401315  0.83177906 0.83524622 0.83653275\n",
            " 0.83386007 0.83540203 0.83494236 0.83168156 0.8322276  0.83426041]\n",
            "  warnings.warn(\n",
            "/usr/local/lib/python3.10/dist-packages/sklearn/base.py:1152: DataConversionWarning: A column-vector y was passed when a 1d array was expected. Please change the shape of y to (n_samples,), for example using ravel().\n",
            "  return fit_method(estimator, *args, **kwargs)\n"
          ]
        },
        {
          "output_type": "stream",
          "name": "stdout",
          "text": [
            "Best Parameters: {'max_depth': 20, 'max_features': 'sqrt', 'min_samples_leaf': 1, 'min_samples_split': 2, 'n_estimators': 300}\n",
            "Best Cross-Validation Score: 0.8508778644895454\n"
          ]
        }
      ]
    },
    {
      "cell_type": "code",
      "source": [
        "# Using best parameters\n",
        "best_params = {'max_depth': 20, 'max_features': 'sqrt', 'min_samples_leaf': 1, 'min_samples_split': 2, 'n_estimators': 300}\n",
        "\n",
        "from sklearn.ensemble import RandomForestRegressor\n",
        "rfr = RandomForestRegressor(**best_params)\n",
        "rfr.fit(x_train,y_train)\n",
        "y_pred = rfr.predict(x_test)\n",
        "\n",
        "from sklearn.metrics import r2_score\n",
        "r2 = r2_score(y_test, y_pred)\n",
        "r2\n"
      ],
      "metadata": {
        "colab": {
          "base_uri": "https://localhost:8080/"
        },
        "id": "rP6sY9qBfo7C",
        "outputId": "7ee7c839-d8c6-4581-c0a1-6c36bdf3c8ca"
      },
      "execution_count": 243,
      "outputs": [
        {
          "output_type": "stream",
          "name": "stderr",
          "text": [
            "/usr/local/lib/python3.10/dist-packages/sklearn/base.py:1152: DataConversionWarning: A column-vector y was passed when a 1d array was expected. Please change the shape of y to (n_samples,), for example using ravel().\n",
            "  return fit_method(estimator, *args, **kwargs)\n"
          ]
        },
        {
          "output_type": "execute_result",
          "data": {
            "text/plain": [
              "0.9067219392195656"
            ]
          },
          "metadata": {},
          "execution_count": 243
        }
      ]
    }
  ]
}